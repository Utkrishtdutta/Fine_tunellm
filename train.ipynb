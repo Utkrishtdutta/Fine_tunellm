{
 "cells": [
  {
   "cell_type": "markdown",
   "metadata": {},
   "source": [
    "## Fine-tune GPT-2 for Q-A reated tasks\n",
    "We are using our own dataset to fine tune GPT. "
   ]
  },
  {
   "cell_type": "code",
   "execution_count": 1,
   "metadata": {},
   "outputs": [
    {
     "name": "stdout",
     "output_type": "stream",
     "text": [
      "WARNING:tensorflow:From c:\\Users\\Utkrisht.Dutta\\Downloads\\Fine_tunellm\\venv\\Lib\\site-packages\\keras\\src\\losses.py:2976: The name tf.losses.sparse_softmax_cross_entropy is deprecated. Please use tf.compat.v1.losses.sparse_softmax_cross_entropy instead.\n",
      "\n"
     ]
    }
   ],
   "source": [
    "import warnings\n",
    "warnings.filterwarnings('ignore')\n",
    "import pandas as pd\n",
    "from transformers import GPT2Tokenizer, GPT2LMHeadModel\n",
    "from transformers import TextDataset, DataCollatorForLanguageModeling, Trainer, TrainingArguments\n"
   ]
  },
  {
   "cell_type": "markdown",
   "metadata": {},
   "source": [
    "We transform the dataset into a pandas dataframe, with a column for question and answer. The question contains the list of questions, and the answer is a answer of given question. \n",
    "Later we combined questions and answers into a single string with a seprator and stored in a list `texts`."
   ]
  },
  {
   "cell_type": "code",
   "execution_count": 2,
   "metadata": {},
   "outputs": [],
   "source": [
    "df = pd.read_excel(\"training_data_assignment.xlsx\")\n",
    "df.columns = ['question', 'answer']\n",
    "\n",
    "# Combine questions and answers into a single string\n",
    "df['input_text'] = df['question'] + \" [SEP] \" + df['answer']\n",
    "texts = df['input_text'].tolist()"
   ]
  },
  {
   "cell_type": "markdown",
   "metadata": {},
   "source": [
    "We imported and initialise `GPT2` tokenizer from Hugging Face using it's library transformer. It will be used to encode provided text into tokens.\n",
    "We also save the texts to a text file with the correct encoding like `utf-8`. "
   ]
  },
  {
   "cell_type": "code",
   "execution_count": 3,
   "metadata": {},
   "outputs": [],
   "source": [
    "# Tokenize your dataset using the GPT-2 tokenizer\n",
    "tokenizer = GPT2Tokenizer.from_pretrained(\"gpt2\")\n",
    "\n",
    "with open(\"training_data_assignment.txt\", \"w\", encoding=\"utf-8\") as file:\n",
    "    for text in texts:\n",
    "        file.write(text + \"\\n\")"
   ]
  },
  {
   "cell_type": "markdown",
   "metadata": {},
   "source": [
    "We used `TextDataset` to organize our text data in a format suitable for training the GPT-2 model. It handles tokenization(using tokenizer we `initize` before) and batching of the text data.\n",
    "\n",
    "We used `DataCollatorForLanguageModeling` for collating and preparing batches of input data for the language model during training.\n",
    "\n",
    "`TextDataset` and `DataCollatorForLanguageModeling` are both important tools to fine-tune LLM on our custom data. Both are provided by Hugging Face."
   ]
  },
  {
   "cell_type": "code",
   "execution_count": 4,
   "metadata": {},
   "outputs": [],
   "source": [
    "# Create a TextDataset\n",
    "text_dataset = TextDataset(\n",
    "    tokenizer=tokenizer,\n",
    "    file_path=\"training_data_assignment.txt\",  \n",
    "    block_size=128\n",
    ")\n",
    "\n",
    "# Create a DataCollatorForLanguageModeling\n",
    "data_collator = DataCollatorForLanguageModeling(\n",
    "    tokenizer=tokenizer,\n",
    "    mlm=False\n",
    ")"
   ]
  },
  {
   "cell_type": "markdown",
   "metadata": {},
   "source": [
    "We uses `TrainingArguments` as part of the Hugging Face transformers library and use to define the settings and hyperparameters for the training process.\n",
    "\n",
    "We also import and initilize our GPT-2 model using `GPT2LMHeadModel`.\n",
    "\n",
    "We uses `Trainer` for training process of our LLM. It takes in the model, training arguments, data collator, and training dataset and train it accordingly."
   ]
  },
  {
   "cell_type": "markdown",
   "metadata": {},
   "source": [
    "In `Trainer` we have sent out `GPT-2` model along with our dataset and training parameter. We have select in `training_args` like no.of epochs, batch size, save model on 10000 steps and limit on total save."
   ]
  },
  {
   "cell_type": "code",
   "execution_count": 5,
   "metadata": {},
   "outputs": [
    {
     "name": "stderr",
     "output_type": "stream",
     "text": [
      " 20%|█▉        | 500/2550 [38:01<2:35:44,  4.56s/it]"
     ]
    },
    {
     "name": "stdout",
     "output_type": "stream",
     "text": [
      "{'loss': 3.01, 'learning_rate': 4.0196078431372555e-05, 'epoch': 0.98}\n"
     ]
    },
    {
     "name": "stderr",
     "output_type": "stream",
     "text": [
      " 39%|███▉      | 1000/2550 [1:19:30<2:17:53,  5.34s/it]"
     ]
    },
    {
     "name": "stdout",
     "output_type": "stream",
     "text": [
      "{'loss': 2.2061, 'learning_rate': 3.0392156862745097e-05, 'epoch': 1.96}\n"
     ]
    },
    {
     "name": "stderr",
     "output_type": "stream",
     "text": [
      " 59%|█████▉    | 1500/2550 [1:55:42<1:09:50,  3.99s/it]"
     ]
    },
    {
     "name": "stdout",
     "output_type": "stream",
     "text": [
      "{'loss': 1.9055, 'learning_rate': 2.058823529411765e-05, 'epoch': 2.94}\n"
     ]
    },
    {
     "name": "stderr",
     "output_type": "stream",
     "text": [
      " 78%|███████▊  | 2000/2550 [2:28:57<31:34,  3.44s/it]  "
     ]
    },
    {
     "name": "stdout",
     "output_type": "stream",
     "text": [
      "{'loss': 1.7083, 'learning_rate': 1.0784313725490197e-05, 'epoch': 3.92}\n"
     ]
    },
    {
     "name": "stderr",
     "output_type": "stream",
     "text": [
      " 98%|█████████▊| 2500/2550 [3:01:52<03:01,  3.63s/it]  "
     ]
    },
    {
     "name": "stdout",
     "output_type": "stream",
     "text": [
      "{'loss': 1.6043, 'learning_rate': 9.80392156862745e-07, 'epoch': 4.9}\n"
     ]
    },
    {
     "name": "stderr",
     "output_type": "stream",
     "text": [
      "100%|██████████| 2550/2550 [3:04:57<00:00,  4.35s/it]"
     ]
    },
    {
     "name": "stdout",
     "output_type": "stream",
     "text": [
      "{'train_runtime': 11097.5723, 'train_samples_per_second': 0.459, 'train_steps_per_second': 0.23, 'train_loss': 2.078109023150276, 'epoch': 5.0}\n"
     ]
    },
    {
     "name": "stderr",
     "output_type": "stream",
     "text": [
      "\n"
     ]
    },
    {
     "data": {
      "text/plain": [
       "TrainOutput(global_step=2550, training_loss=2.078109023150276, metrics={'train_runtime': 11097.5723, 'train_samples_per_second': 0.459, 'train_steps_per_second': 0.23, 'train_loss': 2.078109023150276, 'epoch': 5.0})"
      ]
     },
     "execution_count": 5,
     "metadata": {},
     "output_type": "execute_result"
    }
   ],
   "source": [
    "training_args = TrainingArguments(\n",
    "    output_dir=\"./fine-tuned-gpt2\",\n",
    "    overwrite_output_dir=True,\n",
    "    num_train_epochs=5, \n",
    "    per_device_train_batch_size=2,\n",
    "    save_steps=10_000,\n",
    "    save_total_limit=2,\n",
    ")\n",
    "\n",
    "model = GPT2LMHeadModel.from_pretrained(\"gpt2\")\n",
    "\n",
    "trainer = Trainer(\n",
    "    model=model,\n",
    "    args=training_args,\n",
    "    data_collator=data_collator,\n",
    "    train_dataset=text_dataset\n",
    ")\n",
    "\n",
    "trainer.train()"
   ]
  },
  {
   "cell_type": "markdown",
   "metadata": {},
   "source": [
    "We save our fine-tune model and tokenizer locally using `save_pretrained`.\n",
    "We can use our fine-tune model and tokenizer by importing it from their."
   ]
  },
  {
   "cell_type": "code",
   "execution_count": 6,
   "metadata": {},
   "outputs": [
    {
     "data": {
      "text/plain": [
       "('fine-tuned-gpt2\\\\tokenizer_config.json',\n",
       " 'fine-tuned-gpt2\\\\special_tokens_map.json',\n",
       " 'fine-tuned-gpt2\\\\vocab.json',\n",
       " 'fine-tuned-gpt2\\\\merges.txt',\n",
       " 'fine-tuned-gpt2\\\\added_tokens.json')"
      ]
     },
     "execution_count": 6,
     "metadata": {},
     "output_type": "execute_result"
    }
   ],
   "source": [
    "model.save_pretrained(\"fine-tuned-gpt2\")\n",
    "tokenizer.save_pretrained(\"fine-tuned-gpt2\")"
   ]
  },
  {
   "cell_type": "markdown",
   "metadata": {},
   "source": [
    "Send question to get response and check is it working or not"
   ]
  },
  {
   "cell_type": "code",
   "execution_count": 7,
   "metadata": {},
   "outputs": [
    {
     "name": "stderr",
     "output_type": "stream",
     "text": [
      "The attention mask and the pad token id were not set. As a consequence, you may observe unexpected behavior. Please pass your input's `attention_mask` to obtain reliable results.\n",
      "Setting `pad_token_id` to `eos_token_id`:50256 for open-end generation.\n"
     ]
    },
    {
     "name": "stdout",
     "output_type": "stream",
     "text": [
      "What is the stocks? [SEP] The stock market is a place of investment where investors can\n"
     ]
    }
   ],
   "source": [
    "prompt = \"What is the stocks?\"\n",
    "input_ids = tokenizer.encode(prompt, return_tensors=\"pt\")\n",
    "output = model.generate(input_ids)\n",
    "\n",
    "# Decode and print the generated text\n",
    "generated_text = tokenizer.decode(output[0], skip_special_tokens=True)\n",
    "print(generated_text)"
   ]
  },
  {
   "cell_type": "markdown",
   "metadata": {},
   "source": [
    "## END"
   ]
  }
 ],
 "metadata": {
  "kernelspec": {
   "display_name": "venv",
   "language": "python",
   "name": "python3"
  },
  "language_info": {
   "codemirror_mode": {
    "name": "ipython",
    "version": 3
   },
   "file_extension": ".py",
   "mimetype": "text/x-python",
   "name": "python",
   "nbconvert_exporter": "python",
   "pygments_lexer": "ipython3",
   "version": "3.11.4"
  }
 },
 "nbformat": 4,
 "nbformat_minor": 2
}
